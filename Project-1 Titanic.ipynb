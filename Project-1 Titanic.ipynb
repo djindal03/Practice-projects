{
 "cells": [
  {
   "cell_type": "code",
   "execution_count": 1,
   "metadata": {},
   "outputs": [],
   "source": [
    "import pandas as pd\n",
    "import numpy as np\n",
    "import seaborn as sn\n",
    "import matplotlib.pyplot as plt\n",
    "import warnings\n",
    "warnings.simplefilter('ignore')"
   ]
  },
  {
   "cell_type": "code",
   "execution_count": 2,
   "metadata": {
    "scrolled": true
   },
   "outputs": [
    {
     "data": {
      "text/html": [
       "<div>\n",
       "<style scoped>\n",
       "    .dataframe tbody tr th:only-of-type {\n",
       "        vertical-align: middle;\n",
       "    }\n",
       "\n",
       "    .dataframe tbody tr th {\n",
       "        vertical-align: top;\n",
       "    }\n",
       "\n",
       "    .dataframe thead th {\n",
       "        text-align: right;\n",
       "    }\n",
       "</style>\n",
       "<table border=\"1\" class=\"dataframe\">\n",
       "  <thead>\n",
       "    <tr style=\"text-align: right;\">\n",
       "      <th></th>\n",
       "      <th>PassengerId</th>\n",
       "      <th>Survived</th>\n",
       "      <th>Pclass</th>\n",
       "      <th>Name</th>\n",
       "      <th>Sex</th>\n",
       "      <th>Age</th>\n",
       "      <th>SibSp</th>\n",
       "      <th>Parch</th>\n",
       "      <th>Ticket</th>\n",
       "      <th>Fare</th>\n",
       "      <th>Cabin</th>\n",
       "      <th>Embarked</th>\n",
       "    </tr>\n",
       "  </thead>\n",
       "  <tbody>\n",
       "    <tr>\n",
       "      <th>0</th>\n",
       "      <td>1</td>\n",
       "      <td>0</td>\n",
       "      <td>3</td>\n",
       "      <td>Braund, Mr. Owen Harris</td>\n",
       "      <td>male</td>\n",
       "      <td>22.0</td>\n",
       "      <td>1</td>\n",
       "      <td>0</td>\n",
       "      <td>A/5 21171</td>\n",
       "      <td>7.2500</td>\n",
       "      <td>NaN</td>\n",
       "      <td>S</td>\n",
       "    </tr>\n",
       "    <tr>\n",
       "      <th>1</th>\n",
       "      <td>2</td>\n",
       "      <td>1</td>\n",
       "      <td>1</td>\n",
       "      <td>Cumings, Mrs. John Bradley (Florence Briggs Th...</td>\n",
       "      <td>female</td>\n",
       "      <td>38.0</td>\n",
       "      <td>1</td>\n",
       "      <td>0</td>\n",
       "      <td>PC 17599</td>\n",
       "      <td>71.2833</td>\n",
       "      <td>C85</td>\n",
       "      <td>C</td>\n",
       "    </tr>\n",
       "    <tr>\n",
       "      <th>2</th>\n",
       "      <td>3</td>\n",
       "      <td>1</td>\n",
       "      <td>3</td>\n",
       "      <td>Heikkinen, Miss. Laina</td>\n",
       "      <td>female</td>\n",
       "      <td>26.0</td>\n",
       "      <td>0</td>\n",
       "      <td>0</td>\n",
       "      <td>STON/O2. 3101282</td>\n",
       "      <td>7.9250</td>\n",
       "      <td>NaN</td>\n",
       "      <td>S</td>\n",
       "    </tr>\n",
       "    <tr>\n",
       "      <th>3</th>\n",
       "      <td>4</td>\n",
       "      <td>1</td>\n",
       "      <td>1</td>\n",
       "      <td>Futrelle, Mrs. Jacques Heath (Lily May Peel)</td>\n",
       "      <td>female</td>\n",
       "      <td>35.0</td>\n",
       "      <td>1</td>\n",
       "      <td>0</td>\n",
       "      <td>113803</td>\n",
       "      <td>53.1000</td>\n",
       "      <td>C123</td>\n",
       "      <td>S</td>\n",
       "    </tr>\n",
       "    <tr>\n",
       "      <th>4</th>\n",
       "      <td>5</td>\n",
       "      <td>0</td>\n",
       "      <td>3</td>\n",
       "      <td>Allen, Mr. William Henry</td>\n",
       "      <td>male</td>\n",
       "      <td>35.0</td>\n",
       "      <td>0</td>\n",
       "      <td>0</td>\n",
       "      <td>373450</td>\n",
       "      <td>8.0500</td>\n",
       "      <td>NaN</td>\n",
       "      <td>S</td>\n",
       "    </tr>\n",
       "    <tr>\n",
       "      <th>5</th>\n",
       "      <td>6</td>\n",
       "      <td>0</td>\n",
       "      <td>3</td>\n",
       "      <td>Moran, Mr. James</td>\n",
       "      <td>male</td>\n",
       "      <td>NaN</td>\n",
       "      <td>0</td>\n",
       "      <td>0</td>\n",
       "      <td>330877</td>\n",
       "      <td>8.4583</td>\n",
       "      <td>NaN</td>\n",
       "      <td>Q</td>\n",
       "    </tr>\n",
       "    <tr>\n",
       "      <th>6</th>\n",
       "      <td>7</td>\n",
       "      <td>0</td>\n",
       "      <td>1</td>\n",
       "      <td>McCarthy, Mr. Timothy J</td>\n",
       "      <td>male</td>\n",
       "      <td>54.0</td>\n",
       "      <td>0</td>\n",
       "      <td>0</td>\n",
       "      <td>17463</td>\n",
       "      <td>51.8625</td>\n",
       "      <td>E46</td>\n",
       "      <td>S</td>\n",
       "    </tr>\n",
       "    <tr>\n",
       "      <th>7</th>\n",
       "      <td>8</td>\n",
       "      <td>0</td>\n",
       "      <td>3</td>\n",
       "      <td>Palsson, Master. Gosta Leonard</td>\n",
       "      <td>male</td>\n",
       "      <td>2.0</td>\n",
       "      <td>3</td>\n",
       "      <td>1</td>\n",
       "      <td>349909</td>\n",
       "      <td>21.0750</td>\n",
       "      <td>NaN</td>\n",
       "      <td>S</td>\n",
       "    </tr>\n",
       "    <tr>\n",
       "      <th>8</th>\n",
       "      <td>9</td>\n",
       "      <td>1</td>\n",
       "      <td>3</td>\n",
       "      <td>Johnson, Mrs. Oscar W (Elisabeth Vilhelmina Berg)</td>\n",
       "      <td>female</td>\n",
       "      <td>27.0</td>\n",
       "      <td>0</td>\n",
       "      <td>2</td>\n",
       "      <td>347742</td>\n",
       "      <td>11.1333</td>\n",
       "      <td>NaN</td>\n",
       "      <td>S</td>\n",
       "    </tr>\n",
       "    <tr>\n",
       "      <th>9</th>\n",
       "      <td>10</td>\n",
       "      <td>1</td>\n",
       "      <td>2</td>\n",
       "      <td>Nasser, Mrs. Nicholas (Adele Achem)</td>\n",
       "      <td>female</td>\n",
       "      <td>14.0</td>\n",
       "      <td>1</td>\n",
       "      <td>0</td>\n",
       "      <td>237736</td>\n",
       "      <td>30.0708</td>\n",
       "      <td>NaN</td>\n",
       "      <td>C</td>\n",
       "    </tr>\n",
       "  </tbody>\n",
       "</table>\n",
       "</div>"
      ],
      "text/plain": [
       "   PassengerId  Survived  Pclass  \\\n",
       "0            1         0       3   \n",
       "1            2         1       1   \n",
       "2            3         1       3   \n",
       "3            4         1       1   \n",
       "4            5         0       3   \n",
       "5            6         0       3   \n",
       "6            7         0       1   \n",
       "7            8         0       3   \n",
       "8            9         1       3   \n",
       "9           10         1       2   \n",
       "\n",
       "                                                Name     Sex   Age  SibSp  \\\n",
       "0                            Braund, Mr. Owen Harris    male  22.0      1   \n",
       "1  Cumings, Mrs. John Bradley (Florence Briggs Th...  female  38.0      1   \n",
       "2                             Heikkinen, Miss. Laina  female  26.0      0   \n",
       "3       Futrelle, Mrs. Jacques Heath (Lily May Peel)  female  35.0      1   \n",
       "4                           Allen, Mr. William Henry    male  35.0      0   \n",
       "5                                   Moran, Mr. James    male   NaN      0   \n",
       "6                            McCarthy, Mr. Timothy J    male  54.0      0   \n",
       "7                     Palsson, Master. Gosta Leonard    male   2.0      3   \n",
       "8  Johnson, Mrs. Oscar W (Elisabeth Vilhelmina Berg)  female  27.0      0   \n",
       "9                Nasser, Mrs. Nicholas (Adele Achem)  female  14.0      1   \n",
       "\n",
       "   Parch            Ticket     Fare Cabin Embarked  \n",
       "0      0         A/5 21171   7.2500   NaN        S  \n",
       "1      0          PC 17599  71.2833   C85        C  \n",
       "2      0  STON/O2. 3101282   7.9250   NaN        S  \n",
       "3      0            113803  53.1000  C123        S  \n",
       "4      0            373450   8.0500   NaN        S  \n",
       "5      0            330877   8.4583   NaN        Q  \n",
       "6      0             17463  51.8625   E46        S  \n",
       "7      1            349909  21.0750   NaN        S  \n",
       "8      2            347742  11.1333   NaN        S  \n",
       "9      0            237736  30.0708   NaN        C  "
      ]
     },
     "execution_count": 2,
     "metadata": {},
     "output_type": "execute_result"
    }
   ],
   "source": [
    "df=pd.read_csv('titanic.csv')\n",
    "df.head(10)"
   ]
  },
  {
   "cell_type": "raw",
   "metadata": {},
   "source": [
    "Our target variable is 'Survived' and therefore Classification will be used for fitting the data."
   ]
  },
  {
   "cell_type": "code",
   "execution_count": 3,
   "metadata": {},
   "outputs": [
    {
     "data": {
      "text/plain": [
       "(891, 12)"
      ]
     },
     "execution_count": 3,
     "metadata": {},
     "output_type": "execute_result"
    }
   ],
   "source": [
    "df.shape"
   ]
  },
  {
   "cell_type": "code",
   "execution_count": 4,
   "metadata": {},
   "outputs": [
    {
     "data": {
      "text/html": [
       "<div>\n",
       "<style scoped>\n",
       "    .dataframe tbody tr th:only-of-type {\n",
       "        vertical-align: middle;\n",
       "    }\n",
       "\n",
       "    .dataframe tbody tr th {\n",
       "        vertical-align: top;\n",
       "    }\n",
       "\n",
       "    .dataframe thead th {\n",
       "        text-align: right;\n",
       "    }\n",
       "</style>\n",
       "<table border=\"1\" class=\"dataframe\">\n",
       "  <thead>\n",
       "    <tr style=\"text-align: right;\">\n",
       "      <th></th>\n",
       "      <th>PassengerId</th>\n",
       "      <th>Survived</th>\n",
       "      <th>Pclass</th>\n",
       "      <th>Age</th>\n",
       "      <th>SibSp</th>\n",
       "      <th>Parch</th>\n",
       "      <th>Fare</th>\n",
       "    </tr>\n",
       "  </thead>\n",
       "  <tbody>\n",
       "    <tr>\n",
       "      <th>count</th>\n",
       "      <td>891.000000</td>\n",
       "      <td>891.000000</td>\n",
       "      <td>891.000000</td>\n",
       "      <td>714.000000</td>\n",
       "      <td>891.000000</td>\n",
       "      <td>891.000000</td>\n",
       "      <td>891.000000</td>\n",
       "    </tr>\n",
       "    <tr>\n",
       "      <th>mean</th>\n",
       "      <td>446.000000</td>\n",
       "      <td>0.383838</td>\n",
       "      <td>2.308642</td>\n",
       "      <td>29.699118</td>\n",
       "      <td>0.523008</td>\n",
       "      <td>0.381594</td>\n",
       "      <td>32.204208</td>\n",
       "    </tr>\n",
       "    <tr>\n",
       "      <th>std</th>\n",
       "      <td>257.353842</td>\n",
       "      <td>0.486592</td>\n",
       "      <td>0.836071</td>\n",
       "      <td>14.526497</td>\n",
       "      <td>1.102743</td>\n",
       "      <td>0.806057</td>\n",
       "      <td>49.693429</td>\n",
       "    </tr>\n",
       "    <tr>\n",
       "      <th>min</th>\n",
       "      <td>1.000000</td>\n",
       "      <td>0.000000</td>\n",
       "      <td>1.000000</td>\n",
       "      <td>0.420000</td>\n",
       "      <td>0.000000</td>\n",
       "      <td>0.000000</td>\n",
       "      <td>0.000000</td>\n",
       "    </tr>\n",
       "    <tr>\n",
       "      <th>25%</th>\n",
       "      <td>223.500000</td>\n",
       "      <td>0.000000</td>\n",
       "      <td>2.000000</td>\n",
       "      <td>20.125000</td>\n",
       "      <td>0.000000</td>\n",
       "      <td>0.000000</td>\n",
       "      <td>7.910400</td>\n",
       "    </tr>\n",
       "    <tr>\n",
       "      <th>50%</th>\n",
       "      <td>446.000000</td>\n",
       "      <td>0.000000</td>\n",
       "      <td>3.000000</td>\n",
       "      <td>28.000000</td>\n",
       "      <td>0.000000</td>\n",
       "      <td>0.000000</td>\n",
       "      <td>14.454200</td>\n",
       "    </tr>\n",
       "    <tr>\n",
       "      <th>75%</th>\n",
       "      <td>668.500000</td>\n",
       "      <td>1.000000</td>\n",
       "      <td>3.000000</td>\n",
       "      <td>38.000000</td>\n",
       "      <td>1.000000</td>\n",
       "      <td>0.000000</td>\n",
       "      <td>31.000000</td>\n",
       "    </tr>\n",
       "    <tr>\n",
       "      <th>max</th>\n",
       "      <td>891.000000</td>\n",
       "      <td>1.000000</td>\n",
       "      <td>3.000000</td>\n",
       "      <td>80.000000</td>\n",
       "      <td>8.000000</td>\n",
       "      <td>6.000000</td>\n",
       "      <td>512.329200</td>\n",
       "    </tr>\n",
       "  </tbody>\n",
       "</table>\n",
       "</div>"
      ],
      "text/plain": [
       "       PassengerId    Survived      Pclass         Age       SibSp  \\\n",
       "count   891.000000  891.000000  891.000000  714.000000  891.000000   \n",
       "mean    446.000000    0.383838    2.308642   29.699118    0.523008   \n",
       "std     257.353842    0.486592    0.836071   14.526497    1.102743   \n",
       "min       1.000000    0.000000    1.000000    0.420000    0.000000   \n",
       "25%     223.500000    0.000000    2.000000   20.125000    0.000000   \n",
       "50%     446.000000    0.000000    3.000000   28.000000    0.000000   \n",
       "75%     668.500000    1.000000    3.000000   38.000000    1.000000   \n",
       "max     891.000000    1.000000    3.000000   80.000000    8.000000   \n",
       "\n",
       "            Parch        Fare  \n",
       "count  891.000000  891.000000  \n",
       "mean     0.381594   32.204208  \n",
       "std      0.806057   49.693429  \n",
       "min      0.000000    0.000000  \n",
       "25%      0.000000    7.910400  \n",
       "50%      0.000000   14.454200  \n",
       "75%      0.000000   31.000000  \n",
       "max      6.000000  512.329200  "
      ]
     },
     "execution_count": 4,
     "metadata": {},
     "output_type": "execute_result"
    }
   ],
   "source": [
    "df.describe()"
   ]
  },
  {
   "cell_type": "markdown",
   "metadata": {},
   "source": [
    "Age and Fare must be having outliers due to high standard deviation and large difference between 75th percentile and maximum."
   ]
  },
  {
   "cell_type": "code",
   "execution_count": 5,
   "metadata": {},
   "outputs": [
    {
     "name": "stdout",
     "output_type": "stream",
     "text": [
      "<class 'pandas.core.frame.DataFrame'>\n",
      "RangeIndex: 891 entries, 0 to 890\n",
      "Data columns (total 12 columns):\n",
      " #   Column       Non-Null Count  Dtype  \n",
      "---  ------       --------------  -----  \n",
      " 0   PassengerId  891 non-null    int64  \n",
      " 1   Survived     891 non-null    int64  \n",
      " 2   Pclass       891 non-null    int64  \n",
      " 3   Name         891 non-null    object \n",
      " 4   Sex          891 non-null    object \n",
      " 5   Age          714 non-null    float64\n",
      " 6   SibSp        891 non-null    int64  \n",
      " 7   Parch        891 non-null    int64  \n",
      " 8   Ticket       891 non-null    object \n",
      " 9   Fare         891 non-null    float64\n",
      " 10  Cabin        204 non-null    object \n",
      " 11  Embarked     889 non-null    object \n",
      "dtypes: float64(2), int64(5), object(5)\n",
      "memory usage: 83.7+ KB\n"
     ]
    }
   ],
   "source": [
    "df.info()"
   ]
  },
  {
   "cell_type": "code",
   "execution_count": 6,
   "metadata": {},
   "outputs": [
    {
     "data": {
      "text/plain": [
       "PassengerId      0\n",
       "Survived         0\n",
       "Pclass           0\n",
       "Name             0\n",
       "Sex              0\n",
       "Age            177\n",
       "SibSp            0\n",
       "Parch            0\n",
       "Ticket           0\n",
       "Fare             0\n",
       "Cabin          687\n",
       "Embarked         2\n",
       "dtype: int64"
      ]
     },
     "execution_count": 6,
     "metadata": {},
     "output_type": "execute_result"
    }
   ],
   "source": [
    "df.isnull().sum()"
   ]
  },
  {
   "cell_type": "code",
   "execution_count": null,
   "metadata": {},
   "outputs": [],
   "source": [
    "This shows that Cabin has large number of missing values which cannot be filled using any method."
   ]
  },
  {
   "cell_type": "code",
   "execution_count": 7,
   "metadata": {},
   "outputs": [
    {
     "data": {
      "text/html": [
       "<div>\n",
       "<style scoped>\n",
       "    .dataframe tbody tr th:only-of-type {\n",
       "        vertical-align: middle;\n",
       "    }\n",
       "\n",
       "    .dataframe tbody tr th {\n",
       "        vertical-align: top;\n",
       "    }\n",
       "\n",
       "    .dataframe thead th {\n",
       "        text-align: right;\n",
       "    }\n",
       "</style>\n",
       "<table border=\"1\" class=\"dataframe\">\n",
       "  <thead>\n",
       "    <tr style=\"text-align: right;\">\n",
       "      <th></th>\n",
       "      <th>Survived</th>\n",
       "      <th>Pclass</th>\n",
       "      <th>Sex</th>\n",
       "      <th>Age</th>\n",
       "      <th>SibSp</th>\n",
       "      <th>Parch</th>\n",
       "      <th>Fare</th>\n",
       "      <th>Embarked</th>\n",
       "    </tr>\n",
       "  </thead>\n",
       "  <tbody>\n",
       "    <tr>\n",
       "      <th>0</th>\n",
       "      <td>0</td>\n",
       "      <td>3</td>\n",
       "      <td>male</td>\n",
       "      <td>22.0</td>\n",
       "      <td>1</td>\n",
       "      <td>0</td>\n",
       "      <td>7.2500</td>\n",
       "      <td>S</td>\n",
       "    </tr>\n",
       "    <tr>\n",
       "      <th>1</th>\n",
       "      <td>1</td>\n",
       "      <td>1</td>\n",
       "      <td>female</td>\n",
       "      <td>38.0</td>\n",
       "      <td>1</td>\n",
       "      <td>0</td>\n",
       "      <td>71.2833</td>\n",
       "      <td>C</td>\n",
       "    </tr>\n",
       "    <tr>\n",
       "      <th>2</th>\n",
       "      <td>1</td>\n",
       "      <td>3</td>\n",
       "      <td>female</td>\n",
       "      <td>26.0</td>\n",
       "      <td>0</td>\n",
       "      <td>0</td>\n",
       "      <td>7.9250</td>\n",
       "      <td>S</td>\n",
       "    </tr>\n",
       "    <tr>\n",
       "      <th>3</th>\n",
       "      <td>1</td>\n",
       "      <td>1</td>\n",
       "      <td>female</td>\n",
       "      <td>35.0</td>\n",
       "      <td>1</td>\n",
       "      <td>0</td>\n",
       "      <td>53.1000</td>\n",
       "      <td>S</td>\n",
       "    </tr>\n",
       "    <tr>\n",
       "      <th>4</th>\n",
       "      <td>0</td>\n",
       "      <td>3</td>\n",
       "      <td>male</td>\n",
       "      <td>35.0</td>\n",
       "      <td>0</td>\n",
       "      <td>0</td>\n",
       "      <td>8.0500</td>\n",
       "      <td>S</td>\n",
       "    </tr>\n",
       "    <tr>\n",
       "      <th>5</th>\n",
       "      <td>0</td>\n",
       "      <td>3</td>\n",
       "      <td>male</td>\n",
       "      <td>NaN</td>\n",
       "      <td>0</td>\n",
       "      <td>0</td>\n",
       "      <td>8.4583</td>\n",
       "      <td>Q</td>\n",
       "    </tr>\n",
       "    <tr>\n",
       "      <th>6</th>\n",
       "      <td>0</td>\n",
       "      <td>1</td>\n",
       "      <td>male</td>\n",
       "      <td>54.0</td>\n",
       "      <td>0</td>\n",
       "      <td>0</td>\n",
       "      <td>51.8625</td>\n",
       "      <td>S</td>\n",
       "    </tr>\n",
       "    <tr>\n",
       "      <th>7</th>\n",
       "      <td>0</td>\n",
       "      <td>3</td>\n",
       "      <td>male</td>\n",
       "      <td>2.0</td>\n",
       "      <td>3</td>\n",
       "      <td>1</td>\n",
       "      <td>21.0750</td>\n",
       "      <td>S</td>\n",
       "    </tr>\n",
       "    <tr>\n",
       "      <th>8</th>\n",
       "      <td>1</td>\n",
       "      <td>3</td>\n",
       "      <td>female</td>\n",
       "      <td>27.0</td>\n",
       "      <td>0</td>\n",
       "      <td>2</td>\n",
       "      <td>11.1333</td>\n",
       "      <td>S</td>\n",
       "    </tr>\n",
       "    <tr>\n",
       "      <th>9</th>\n",
       "      <td>1</td>\n",
       "      <td>2</td>\n",
       "      <td>female</td>\n",
       "      <td>14.0</td>\n",
       "      <td>1</td>\n",
       "      <td>0</td>\n",
       "      <td>30.0708</td>\n",
       "      <td>C</td>\n",
       "    </tr>\n",
       "  </tbody>\n",
       "</table>\n",
       "</div>"
      ],
      "text/plain": [
       "   Survived  Pclass     Sex   Age  SibSp  Parch     Fare Embarked\n",
       "0         0       3    male  22.0      1      0   7.2500        S\n",
       "1         1       1  female  38.0      1      0  71.2833        C\n",
       "2         1       3  female  26.0      0      0   7.9250        S\n",
       "3         1       1  female  35.0      1      0  53.1000        S\n",
       "4         0       3    male  35.0      0      0   8.0500        S\n",
       "5         0       3    male   NaN      0      0   8.4583        Q\n",
       "6         0       1    male  54.0      0      0  51.8625        S\n",
       "7         0       3    male   2.0      3      1  21.0750        S\n",
       "8         1       3  female  27.0      0      2  11.1333        S\n",
       "9         1       2  female  14.0      1      0  30.0708        C"
      ]
     },
     "execution_count": 7,
     "metadata": {},
     "output_type": "execute_result"
    }
   ],
   "source": [
    "df1=df.drop(['Name','Ticket','Cabin','PassengerId'],axis=1)\n",
    "df1.head(10)"
   ]
  },
  {
   "cell_type": "code",
   "execution_count": 8,
   "metadata": {},
   "outputs": [
    {
     "name": "stdout",
     "output_type": "stream",
     "text": [
      "<class 'pandas.core.frame.DataFrame'>\n",
      "RangeIndex: 891 entries, 0 to 890\n",
      "Data columns (total 8 columns):\n",
      " #   Column    Non-Null Count  Dtype  \n",
      "---  ------    --------------  -----  \n",
      " 0   Survived  891 non-null    int64  \n",
      " 1   Pclass    891 non-null    int64  \n",
      " 2   Sex       891 non-null    object \n",
      " 3   Age       714 non-null    float64\n",
      " 4   SibSp     891 non-null    int64  \n",
      " 5   Parch     891 non-null    int64  \n",
      " 6   Fare      891 non-null    float64\n",
      " 7   Embarked  889 non-null    object \n",
      "dtypes: float64(2), int64(4), object(2)\n",
      "memory usage: 55.8+ KB\n"
     ]
    }
   ],
   "source": [
    "df1.info()"
   ]
  },
  {
   "cell_type": "code",
   "execution_count": 9,
   "metadata": {},
   "outputs": [],
   "source": [
    "df1['Age'].fillna(df1['Age'].median(), inplace=True)"
   ]
  },
  {
   "cell_type": "code",
   "execution_count": 10,
   "metadata": {},
   "outputs": [],
   "source": [
    "df1['Embarked'].fillna(df1['Embarked'].mode(), inplace=True)"
   ]
  },
  {
   "cell_type": "code",
   "execution_count": 11,
   "metadata": {},
   "outputs": [
    {
     "name": "stdout",
     "output_type": "stream",
     "text": [
      "<class 'pandas.core.frame.DataFrame'>\n",
      "RangeIndex: 891 entries, 0 to 890\n",
      "Data columns (total 8 columns):\n",
      " #   Column    Non-Null Count  Dtype  \n",
      "---  ------    --------------  -----  \n",
      " 0   Survived  891 non-null    int64  \n",
      " 1   Pclass    891 non-null    int64  \n",
      " 2   Sex       891 non-null    object \n",
      " 3   Age       891 non-null    float64\n",
      " 4   SibSp     891 non-null    int64  \n",
      " 5   Parch     891 non-null    int64  \n",
      " 6   Fare      891 non-null    float64\n",
      " 7   Embarked  889 non-null    object \n",
      "dtypes: float64(2), int64(4), object(2)\n",
      "memory usage: 55.8+ KB\n"
     ]
    }
   ],
   "source": [
    "df1.info()"
   ]
  },
  {
   "cell_type": "code",
   "execution_count": 12,
   "metadata": {},
   "outputs": [
    {
     "data": {
      "text/plain": [
       "count     889\n",
       "unique      3\n",
       "top         S\n",
       "freq      644\n",
       "Name: Embarked, dtype: object"
      ]
     },
     "execution_count": 12,
     "metadata": {},
     "output_type": "execute_result"
    }
   ],
   "source": [
    "df1[\"Embarked\"].describe()"
   ]
  },
  {
   "cell_type": "code",
   "execution_count": 13,
   "metadata": {},
   "outputs": [],
   "source": [
    "#as the fillna operation is not working in the 'Embarked' column so I will simply replace the null value with 'S' as it is the most frequent value(plz comment why the fillna operation didn't work)\n",
    "df1['Embarked'].replace(np.NaN,'S', inplace=True)"
   ]
  },
  {
   "cell_type": "code",
   "execution_count": 14,
   "metadata": {},
   "outputs": [
    {
     "name": "stdout",
     "output_type": "stream",
     "text": [
      "<class 'pandas.core.frame.DataFrame'>\n",
      "RangeIndex: 891 entries, 0 to 890\n",
      "Data columns (total 8 columns):\n",
      " #   Column    Non-Null Count  Dtype  \n",
      "---  ------    --------------  -----  \n",
      " 0   Survived  891 non-null    int64  \n",
      " 1   Pclass    891 non-null    int64  \n",
      " 2   Sex       891 non-null    object \n",
      " 3   Age       891 non-null    float64\n",
      " 4   SibSp     891 non-null    int64  \n",
      " 5   Parch     891 non-null    int64  \n",
      " 6   Fare      891 non-null    float64\n",
      " 7   Embarked  891 non-null    object \n",
      "dtypes: float64(2), int64(4), object(2)\n",
      "memory usage: 55.8+ KB\n"
     ]
    }
   ],
   "source": [
    "df1.info()"
   ]
  },
  {
   "cell_type": "code",
   "execution_count": 15,
   "metadata": {},
   "outputs": [
    {
     "data": {
      "text/plain": [
       "array(['S', 'C', 'Q'], dtype=object)"
      ]
     },
     "execution_count": 15,
     "metadata": {},
     "output_type": "execute_result"
    }
   ],
   "source": [
    "df1['Embarked'].unique()"
   ]
  },
  {
   "cell_type": "code",
   "execution_count": null,
   "metadata": {},
   "outputs": [],
   "source": []
  },
  {
   "cell_type": "code",
   "execution_count": 16,
   "metadata": {},
   "outputs": [
    {
     "data": {
      "text/plain": [
       "<function matplotlib.pyplot.show(*args, **kw)>"
      ]
     },
     "execution_count": 16,
     "metadata": {},
     "output_type": "execute_result"
    },
    {
     "data": {
      "image/png": "[encoded data removed]",
      "text/plain": [
       "<Figure size 432x288 with 1 Axes>"
      ]
     },
     "metadata": {
      "needs_background": "light"
     },
     "output_type": "display_data"
    }
   ],
   "source": [
    "sn.distplot(df1['Age'])\n",
    "plt.show"
   ]
  },
  {
   "cell_type": "code",
   "execution_count": 17,
   "metadata": {},
   "outputs": [
    {
     "data": {
      "text/plain": [
       "<function matplotlib.pyplot.show(*args, **kw)>"
      ]
     },
     "execution_count": 17,
     "metadata": {},
     "output_type": "execute_result"
    },
    {
     "data": {
      "image/png": "[encoded data removed]",
      "text/plain": [
       "<Figure size 432x288 with 1 Axes>"
      ]
     },
     "metadata": {
      "needs_background": "light"
     },
     "output_type": "display_data"
    }
   ],
   "source": [
    "sn.distplot(df1['SibSp'])\n",
    "plt.show"
   ]
  },
  {
   "cell_type": "code",
   "execution_count": 18,
   "metadata": {},
   "outputs": [
    {
     "data": {
      "text/plain": [
       "<function matplotlib.pyplot.show(*args, **kw)>"
      ]
     },
     "execution_count": 18,
     "metadata": {},
     "output_type": "execute_result"
    },
    {
     "data": {
      "image/png": "[encoded data removed]",
      "text/plain": [
       "<Figure size 432x288 with 1 Axes>"
      ]
     },
     "metadata": {
      "needs_background": "light"
     },
     "output_type": "display_data"
    }
   ],
   "source": [
    "sn.distplot(df1['Parch'])\n",
    "plt.show"
   ]
  },
  {
   "cell_type": "code",
   "execution_count": 19,
   "metadata": {},
   "outputs": [
    {
     "data": {
      "text/plain": [
       "<function matplotlib.pyplot.show(*args, **kw)>"
      ]
     },
     "execution_count": 19,
     "metadata": {},
     "output_type": "execute_result"
    },
    {
     "data": {
      "image/png": "[encoded data removed]",
      "text/plain": [
       "<Figure size 432x288 with 1 Axes>"
      ]
     },
     "metadata": {
      "needs_background": "light"
     },
     "output_type": "display_data"
    }
   ],
   "source": [
    "sn.distplot(df1['Fare'])\n",
    "plt.show"
   ]
  },
  {
   "cell_type": "code",
   "execution_count": 20,
   "metadata": {},
   "outputs": [
    {
     "data": {
      "image/png": "[encoded data removed]",
      "text/plain": [
       "<Figure size 432x288 with 1 Axes>"
      ]
     },
     "metadata": {
      "needs_background": "light"
     },
     "output_type": "display_data"
    }
   ],
   "source": [
    "sn.countplot(df1['Pclass'])\n",
    "plt.show()"
   ]
  },
  {
   "cell_type": "code",
   "execution_count": 21,
   "metadata": {},
   "outputs": [
    {
     "data": {
      "image/png": "[encoded data removed]",
      "text/plain": [
       "<Figure size 432x288 with 1 Axes>"
      ]
     },
     "metadata": {
      "needs_background": "light"
     },
     "output_type": "display_data"
    }
   ],
   "source": [
    "sn.countplot(df1['Sex'])\n",
    "plt.show()"
   ]
  },
  {
   "cell_type": "code",
   "execution_count": 22,
   "metadata": {},
   "outputs": [
    {
     "data": {
      "image/png": "[encoded data removed]",
      "text/plain": [
       "<Figure size 432x288 with 1 Axes>"
      ]
     },
     "metadata": {
      "needs_background": "light"
     },
     "output_type": "display_data"
    }
   ],
   "source": [
    "sn.countplot(df1['Embarked'])\n",
    "plt.show()"
   ]
  },
  {
   "cell_type": "code",
   "execution_count": 23,
   "metadata": {},
   "outputs": [
    {
     "data": {
      "image/png": "[encoded data removed]",
      "text/plain": [
       "<Figure size 432x288 with 1 Axes>"
      ]
     },
     "metadata": {
      "needs_background": "light"
     },
     "output_type": "display_data"
    }
   ],
   "source": [
    "sn.boxplot(data=df1['Fare'], orient='h')\n",
    "plt.show()"
   ]
  },
  {
   "cell_type": "code",
   "execution_count": 24,
   "metadata": {},
   "outputs": [
    {
     "data": {
      "image/png": "[encoded data removed]",
      "text/plain": [
       "<Figure size 432x288 with 1 Axes>"
      ]
     },
     "metadata": {
      "needs_background": "light"
     },
     "output_type": "display_data"
    }
   ],
   "source": [
    "sn.boxplot(data=df1['Age'], orient='h')\n",
    "plt.show()"
   ]
  },
  {
   "cell_type": "code",
   "execution_count": 25,
   "metadata": {},
   "outputs": [
    {
     "data": {
      "text/plain": [
       "Survived    0.478523\n",
       "Pclass     -0.630548\n",
       "Age         0.510245\n",
       "SibSp       3.695352\n",
       "Parch       2.749117\n",
       "Fare        4.787317\n",
       "dtype: float64"
      ]
     },
     "execution_count": 25,
     "metadata": {},
     "output_type": "execute_result"
    }
   ],
   "source": [
    "df1.skew()"
   ]
  },
  {
   "cell_type": "raw",
   "metadata": {},
   "source": [
    "Though both 'Age' and 'Fare' have outliers but I will only remove the outliers of 'Fare' because the minimum and maximum values of 'Age' and in acceptable range."
   ]
  },
  {
   "cell_type": "code",
   "execution_count": 26,
   "metadata": {},
   "outputs": [
    {
     "data": {
      "text/plain": [
       "array([5.02445171e-01, 7.86845294e-01, 4.88854258e-01, 4.20730236e-01,\n",
       "       4.86337422e-01, 4.78116429e-01, 3.95813561e-01, 2.24083121e-01,\n",
       "       4.24256141e-01, 4.29555021e-02, 3.12172378e-01, 1.13845709e-01,\n",
       "       4.86337422e-01, 1.87093118e-02, 4.90279793e-01, 3.26266659e-01,\n",
       "       6.19988892e-02, 3.86670720e-01, 2.85997284e-01, 5.02948539e-01,\n",
       "       1.24919787e-01, 3.86670720e-01, 4.86756223e-01, 6.63597416e-02,\n",
       "       2.24083121e-01, 1.64441595e-02, 5.02948539e-01, 4.64700108e+00,\n",
       "       4.89776426e-01, 4.89442190e-01, 9.02720170e-02, 2.30172882e+00,\n",
       "       4.92377828e-01, 4.37007438e-01, 1.00606170e+00, 3.98582080e-01,\n",
       "       5.02863973e-01, 4.86337422e-01, 2.85997284e-01, 4.22073541e-01,\n",
       "       4.57645492e-01, 2.25593223e-01, 4.89442190e-01, 1.88762532e-01,\n",
       "       4.89776426e-01, 4.86337422e-01, 3.36334002e-01, 4.92377828e-01,\n",
       "       2.11917743e-01, 2.90024222e-01, 1.50673744e-01, 4.91371093e-01,\n",
       "       8.96496787e-01, 1.24919787e-01, 5.99510151e-01, 6.63597416e-02,\n",
       "       4.37007438e-01, 5.02863973e-01, 8.96840841e-02, 2.95895176e-01,\n",
       "       5.02863973e-01, 9.62353321e-01, 1.03232136e+00, 8.66638810e-02,\n",
       "       9.02720170e-02, 3.41452240e-01, 4.37007438e-01, 4.84156835e-01,\n",
       "       4.88854258e-01, 4.74004926e-01, 4.37007438e-01, 2.95895176e-01,\n",
       "       8.31477855e-01, 3.57390858e-01, 4.89103607e-01, 4.94391297e-01,\n",
       "       4.89442190e-01, 4.86337422e-01, 6.45157251e-02, 3.97241431e-01,\n",
       "       4.67209469e-01, 4.57142125e-01, 4.91622777e-01, 2.99922113e-01,\n",
       "       4.37007438e-01, 3.29286862e-01, 4.37082185e-02, 4.86337422e-01,\n",
       "       4.64700108e+00, 4.86337422e-01, 4.86337422e-01, 4.90279793e-01,\n",
       "       5.83317835e-01, 2.34150465e-01, 5.02445171e-01, 4.86337422e-01,\n",
       "       4.93298232e-02, 6.27277898e-01, 1.85323848e-01, 1.24919787e-01,\n",
       "       4.89442190e-01, 4.89442190e-01, 9.07737982e-01, 4.74172044e-01,\n",
       "       4.88854258e-01, 4.89442190e-01, 4.94391297e-01, 4.91874461e-01,\n",
       "       4.89442190e-01, 1.62168958e-01, 3.98582080e-01, 3.57390858e-01,\n",
       "       4.86337422e-01, 4.50598352e-01, 3.57308306e-01, 4.88854258e-01,\n",
       "       4.92377828e-01, 2.25593223e-01, 4.33533223e+00, 1.87093118e-02,\n",
       "       8.31477855e-01, 4.86337422e-01, 4.29555021e-02, 3.86670720e-01,\n",
       "       9.07737982e-01, 4.22073541e-01, 4.92377828e-01, 5.04625758e-01,\n",
       "       1.98244277e-01, 5.07982210e-01, 4.89442190e-01, 5.06472109e-01,\n",
       "       3.56468689e-01, 1.24919787e-01, 3.86670720e-01, 3.45479177e-01,\n",
       "       1.19215630e-01, 4.20730236e-01, 4.62846282e-01, 9.46245572e-01,\n",
       "       3.41452240e-01, 4.92377828e-01, 3.29286862e-01, 5.12512515e-01,\n",
       "       4.16872751e-01, 9.15281006e-02, 4.91455659e-01, 4.37082185e-02,\n",
       "       1.24919787e-01, 3.86670720e-01, 3.96234697e-01, 6.92548513e-01,\n",
       "       4.86337422e-01, 3.56468689e-01, 5.01186753e-01, 5.87429338e-01,\n",
       "       4.92714077e-01, 4.86337422e-01, 4.74004926e-01, 7.51945840e-01,\n",
       "       3.24253190e-01, 3.31300330e-01, 4.91874461e-01, 4.74004926e-01,\n",
       "       1.50673744e-01, 2.35157199e-01, 4.58986142e-01, 8.66638810e-02,\n",
       "       1.26429888e-01, 4.89103607e-01, 2.60903672e-02, 6.19988892e-02,\n",
       "       4.24256141e-01, 4.88854258e-01, 3.03713226e-02, 4.90279793e-01,\n",
       "       1.35657615e-01, 7.03044477e-02, 3.86670720e-01, 6.48421654e-01,\n",
       "       7.51945840e-01, 3.45394611e-01, 1.64441595e-02, 1.36831147e-01,\n",
       "       2.04955168e-01, 3.58312706e-01, 3.36334002e-01, 1.13845709e-01,\n",
       "       3.36334002e-01, 4.89442190e-01, 3.86670720e-01, 3.86670720e-01,\n",
       "       4.90279793e-01, 1.24919787e-01, 9.02720170e-02, 2.30172882e+00,\n",
       "       4.92377828e-01, 4.79205715e-01, 4.92377828e-01, 3.86670720e-01,\n",
       "       4.57142125e-01, 7.51945840e-01, 5.17630753e-01, 5.02948539e-01,\n",
       "       4.86337422e-01, 4.37762489e-01, 3.29286862e-01, 2.70141218e-01,\n",
       "       4.92377828e-01, 2.42463508e-02, 5.06472109e-01, 2.25593223e-01,\n",
       "       5.02445171e-01, 3.86670720e-01, 4.92377828e-01, 1.63233504e+00,\n",
       "       4.88854258e-01, 1.04785100e-01, 8.87687861e-01, 4.37007438e-01,\n",
       "       4.86337422e-01, 3.86670720e-01, 4.86337422e-01, 4.89442190e-01,\n",
       "       1.16370019e+00, 4.60162328e-01, 4.37007438e-01, 5.02445171e-01,\n",
       "       3.86670720e-01, 1.35657615e-01, 1.03232136e+00, 4.91874461e-01,\n",
       "       3.76603377e-01, 1.64441595e-02, 4.37007438e-01, 4.96404765e-01,\n",
       "       1.24919787e-01, 1.19886115e-01, 4.37007438e-01, 4.01268368e-01,\n",
       "       3.57390858e-01, 3.36334002e-01, 4.37007438e-01, 5.04962007e-01,\n",
       "       5.02948539e-01, 1.16370019e+00, 4.91874461e-01, 3.56468689e-01,\n",
       "       4.09740724e-01, 1.24919787e-01, 5.02445171e-01, 4.37762489e-01,\n",
       "       1.13845709e-01, 3.24253190e-01, 2.41449289e-01, 3.41452240e-01,\n",
       "       9.46245572e-01, 1.09322879e+00, 9.66716653e+00, 1.24919787e-01,\n",
       "       4.92377828e-01, 1.64441595e-02, 9.55306181e-01, 6.48421654e-01,\n",
       "       4.92377828e-01, 4.37007438e-01, 1.50673744e-01, 4.91874461e-01,\n",
       "       2.44149778e+00, 2.08251241e+00, 2.42463508e-02, 6.48421654e-01,\n",
       "       2.55795253e-01, 5.04214441e-02, 4.92377828e-01, 9.21244331e-01,\n",
       "       4.92377828e-01, 6.48421654e-01, 6.19988892e-02, 2.40694238e-01,\n",
       "       4.92377828e-01, 4.90279793e-01, 4.57142125e-01, 4.86337422e-01,\n",
       "       1.24919787e-01, 4.74004926e-01, 4.57142125e-01, 4.89442190e-01,\n",
       "       3.86670720e-01, 4.92377828e-01, 9.39198431e-01, 1.18542955e+00,\n",
       "       3.89187556e-01, 4.70229672e-01, 4.89442190e-01, 9.02720170e-02,\n",
       "       5.02863973e-01, 2.40299019e+00, 3.43136943e-02, 4.33533223e+00,\n",
       "       4.92377828e-01, 1.80290176e-01, 6.48421654e-01, 3.99758267e-01,\n",
       "       4.86337422e-01, 2.40299019e+00, 1.58417891e+00, 1.54424578e+00,\n",
       "       1.65189161e-01, 4.97829980e-01, 1.02594470e+00, 4.63441690e+00,\n",
       "       1.24919787e-01, 4.89442190e-01, 1.19886115e-01, 4.90279793e-01,\n",
       "       1.24919787e-01, 3.66536033e-01, 2.67111778e+00, 2.05969377e+00,\n",
       "       5.02445171e-01, 4.89442190e-01, 3.99758267e-01, 6.45157251e-02,\n",
       "       7.51945840e-01, 2.08251241e+00, 5.22831542e-01, 3.86670720e-01,\n",
       "       2.35157199e-01, 5.18971402e-01, 1.80290176e-01, 7.45830687e-02,\n",
       "       2.44149778e+00, 2.85997284e-01, 2.04257929e+00, 4.89442190e-01,\n",
       "       6.92548513e-01, 2.05969377e+00, 4.86337422e-01, 6.63597416e-02,\n",
       "       1.24919787e-01, 4.64700108e+00, 3.86670720e-01, 3.86670720e-01,\n",
       "       3.86670720e-01, 3.86670720e-01, 3.86670720e-01, 3.24253190e-01,\n",
       "       3.28280127e-01, 4.74004926e-01, 4.62679164e-01, 5.62923980e-02,\n",
       "       5.02863973e-01, 2.90024222e-01, 5.02948539e-01, 4.57142125e-01,\n",
       "       4.58986142e-01, 3.86670720e-01, 4.89776426e-01, 4.89776426e-01,\n",
       "       8.66638810e-02, 9.02720170e-02, 3.57390858e-01, 5.06472109e-01,\n",
       "       3.36334002e-01, 5.02445171e-01, 8.66713557e-01, 5.02863973e-01,\n",
       "       4.92377828e-01, 7.46912168e-01, 4.67879633e-01, 5.17630753e-01,\n",
       "       4.86337422e-01, 2.08251241e+00, 2.24083121e-01, 1.00606170e+00,\n",
       "       5.02445171e-01, 3.61006469e+00, 5.67631221e-01, 4.91874461e-01,\n",
       "       3.93272305e+00, 3.31467448e-01, 4.88854258e-01, 3.98582080e-01,\n",
       "       4.89442190e-01, 8.31477855e-01, 2.95895176e-01, 3.86670720e-01,\n",
       "       4.92796629e-01, 4.06805407e-01, 1.76774081e+00, 4.91455659e-01,\n",
       "       4.88854258e-01, 1.63233504e+00, 3.12172378e-01, 4.91455659e-01,\n",
       "       4.90279793e-01, 1.24919787e-01, 4.37007438e-01, 3.93717861e-01,\n",
       "       4.88854258e-01, 4.86337422e-01, 4.50598352e-01, 3.29286862e-01,\n",
       "       4.74004926e-01, 2.25593223e-01, 4.92377828e-01, 2.70896269e-01,\n",
       "       4.91874461e-01, 1.35657615e-01, 4.89442190e-01, 5.10331928e-01,\n",
       "       1.16370019e+00, 6.48421654e-01, 4.88854258e-01, 4.86337422e-01,\n",
       "       5.95568003e-03, 3.86670720e-01, 3.86670720e-01, 1.62168958e-01,\n",
       "       4.89442190e-01, 4.92714077e-01, 4.89860992e-01, 3.58482158e-01,\n",
       "       2.41449289e-01, 5.02445171e-01, 1.24919787e-01, 1.24919787e-01,\n",
       "       4.92377828e-01, 4.86337422e-01, 1.13845709e-01, 3.24253190e-01,\n",
       "       1.24919787e-01, 5.04962007e-01, 4.77107360e-01, 1.76774081e+00,\n",
       "       4.37082185e-02, 2.70896269e-01, 4.64700108e+00, 4.37007438e-01,\n",
       "       1.19886115e-01, 4.57142125e-01, 4.91874461e-01, 3.86670720e-01,\n",
       "       4.85079004e-01, 9.99769611e-01, 2.55795253e-01, 1.13845709e-01,\n",
       "       2.60661807e-01, 3.43136943e-02, 8.96840841e-02, 2.46398395e-01,\n",
       "       8.96840841e-02, 1.14566354e+00, 4.86337422e-01, 4.89442190e-01,\n",
       "       1.13845709e-01, 3.95813561e-01, 4.37007438e-01, 4.92377828e-01,\n",
       "       1.13845709e-01, 4.86337422e-01, 1.26763803e-01, 3.86670720e-01,\n",
       "       4.86337422e-01, 5.06472109e-01, 6.48421654e-01, 1.13845709e-01,\n",
       "       4.92881195e-01, 2.60661807e-01, 5.02445171e-01, 4.74004926e-01,\n",
       "       8.96840841e-02, 3.70730088e-01, 4.50346668e-01, 3.98582080e-01,\n",
       "       2.25593223e-01, 5.06556675e-01, 4.96992698e-01, 4.01016685e-01,\n",
       "       2.95895176e-01, 6.48421654e-01, 4.86337422e-01, 4.55380340e-01,\n",
       "       1.18542955e+00, 1.35657615e-01, 1.16370019e+00, 5.04214441e-02,\n",
       "       4.86337422e-01, 3.28280127e-01, 2.46398395e-01, 5.02445171e-01,\n",
       "       3.43136943e-02, 3.48329928e-01, 4.86337422e-01, 3.57308306e-01,\n",
       "       9.27453868e-01, 3.44387877e-01, 2.40299019e+00, 4.91455659e-01,\n",
       "       4.74004926e-01, 4.92377828e-01, 4.94810098e-01, 4.55380340e-01,\n",
       "       1.09322879e+00, 1.54424578e+00, 1.24919787e-01, 1.13845709e-01,\n",
       "       1.94887825e-01, 4.89103607e-01, 4.92377828e-01, 4.86337422e-01,\n",
       "       1.19131064e-01, 5.47578765e-01, 4.97496065e-01, 3.65765123e-02,\n",
       "       4.37007438e-01, 1.62168958e-01, 1.24919787e-01, 4.89442190e-01,\n",
       "       1.23417160e+00, 4.89442190e-01, 5.02948539e-01, 5.18971402e-01,\n",
       "       5.02863973e-01, 4.92377828e-01, 4.37007438e-01, 3.81703316e+00,\n",
       "       4.88854258e-01, 4.16872751e-01, 1.24919787e-01, 5.02863973e-01,\n",
       "       5.02863973e-01, 1.98244277e-01, 4.74004926e-01, 1.19886115e-01,\n",
       "       1.13845709e-01, 1.49441243e+00, 3.56468689e-01, 3.48245362e-01,\n",
       "       7.81141137e-01, 1.87093118e-02, 1.87093118e-02, 1.24919787e-01,\n",
       "       1.49441243e+00, 1.24919787e-01, 1.24919787e-01, 3.69304552e-01,\n",
       "       2.35157199e-01, 9.15281006e-02, 1.58417891e+00, 1.24919787e-01,\n",
       "       4.90783161e-01, 5.02948539e-01, 4.91874461e-01, 1.13845709e-01,\n",
       "       1.48911959e-01, 3.93272305e+00, 9.55306181e-01, 2.98078096e-01,\n",
       "       4.92377828e-01, 4.89442190e-01, 3.76603377e-01, 4.86337422e-01,\n",
       "       4.86337422e-01, 1.62168958e-01, 4.89442190e-01, 2.24083121e-01,\n",
       "       5.02863973e-01, 4.90279793e-01, 4.37007438e-01, 3.88095935e-01,\n",
       "       1.17117595e-01, 4.92377828e-01, 4.86337422e-01, 3.56468689e-01,\n",
       "       3.86670720e-01, 4.77107360e-01, 3.57308306e-01, 4.88854258e-01,\n",
       "       4.43810379e-02, 1.58417891e+00, 1.24919787e-01, 1.59482670e-01,\n",
       "       4.72998191e-01, 9.55306181e-01, 3.46401346e-01, 9.46245572e-01,\n",
       "       4.86337422e-01, 4.86337422e-01, 5.04962007e-01, 9.27453868e-01,\n",
       "       5.02445171e-01, 4.92377828e-01, 1.24919787e-01, 1.62168958e-01,\n",
       "       1.60230236e-02, 6.48421654e-01, 5.02948539e-01, 4.97829980e-01,\n",
       "       1.04785100e-01, 4.89442190e-01, 2.05289083e-01, 4.86337422e-01,\n",
       "       1.13845709e-01, 3.35327268e-01, 4.89442190e-01, 3.43136943e-02,\n",
       "       1.88762532e-01, 2.44149778e+00, 1.87093118e-02, 5.06472109e-01,\n",
       "       3.36334002e-01, 4.92377828e-01, 4.86337422e-01, 6.60333014e-01,\n",
       "       3.58482158e-01, 3.24253190e-01, 1.36831147e-01, 4.37007438e-01,\n",
       "       3.57390858e-01, 4.09740724e-01, 3.31467448e-01, 4.90279793e-01,\n",
       "       3.24253190e-01, 2.34754408e-03, 3.99758267e-01, 9.21244331e-01,\n",
       "       4.89442190e-01, 4.92714077e-01, 4.43810379e-02, 5.06387543e-01,\n",
       "       3.43136943e-02, 6.48421654e-01, 8.66638810e-02, 3.86670720e-01,\n",
       "       4.88854258e-01, 1.19886115e-01, 1.50673744e-01, 3.24253190e-01,\n",
       "       4.90279793e-01, 7.46912168e-01, 8.66638810e-02, 4.89103607e-01,\n",
       "       2.60661807e-01, 8.96496787e-01, 4.89442190e-01, 6.63597416e-02,\n",
       "       4.96404765e-01, 4.96404765e-01, 4.89442190e-01, 1.85323848e-01,\n",
       "       4.78619796e-01, 4.90783161e-01, 5.12512515e-01, 8.31477855e-01,\n",
       "       4.89442190e-01, 3.36334002e-01, 3.86670720e-01, 1.63233504e+00,\n",
       "       2.04257929e+00, 5.02948539e-01, 1.33225345e-01, 4.97496065e-01,\n",
       "       4.88854258e-01, 8.31477855e-01, 3.86670720e-01, 4.91874461e-01,\n",
       "       4.86337422e-01, 3.98582080e-01, 1.36831147e-01, 3.98582080e-01,\n",
       "       4.37007438e-01, 3.86670720e-01, 6.48421654e-01, 4.91874461e-01,\n",
       "       4.86337422e-01, 4.50262103e-01, 2.95895176e-01, 9.66716653e+00,\n",
       "       4.84575637e-01, 8.96496787e-01, 4.62679164e-01, 2.95895176e-01,\n",
       "       1.36831147e-01, 1.88762532e-01, 1.50673744e-01, 4.43635777e-01,\n",
       "       4.91455659e-01, 3.60679280e+00, 4.99255516e-01, 3.78280596e-01,\n",
       "       4.89103607e-01, 5.02948539e-01, 1.13845709e-01, 3.76603377e-01,\n",
       "       4.86337422e-01, 4.92714077e-01, 1.58417891e+00, 4.94391297e-01,\n",
       "       3.93272305e+00, 1.19131064e-01, 3.57390858e-01, 4.92544946e-01,\n",
       "       4.90279793e-01, 1.24919787e-01, 3.76603377e-01, 1.19131064e-01,\n",
       "       2.40299019e+00, 3.41452240e-01, 3.48329928e-01, 1.13845709e-01,\n",
       "       3.98582080e-01, 4.57478375e-01, 3.86670720e-01, 4.94391297e-01,\n",
       "       3.93272305e+00, 4.37007438e-01, 3.36334002e-01, 4.91874461e-01,\n",
       "       1.60230236e-02, 5.06387543e-01, 3.86670720e-01, 3.86670720e-01,\n",
       "       4.20730236e-01, 4.74004926e-01, 2.25593223e-01, 4.92629511e-01,\n",
       "       1.24919787e-01, 4.88854258e-01, 3.60679280e+00, 2.70141218e-01,\n",
       "       6.48421654e-01, 3.86670720e-01, 3.86670720e-01, 3.24253190e-01,\n",
       "       4.37082185e-02, 9.66716653e+00, 4.89442190e-01, 4.89442190e-01,\n",
       "       4.43810379e-02, 9.39198431e-01, 4.63441690e+00, 3.24253190e-01,\n",
       "       4.88854258e-01, 7.81141137e-01, 2.40694238e-01, 3.86670720e-01,\n",
       "       4.20730236e-01, 4.92377828e-01, 1.85323848e-01, 3.97241431e-01,\n",
       "       4.57142125e-01, 4.89442190e-01, 6.60333014e-01, 3.56468689e-01,\n",
       "       4.91455659e-01, 4.16872751e-01, 4.86337422e-01, 1.09322879e+00,\n",
       "       3.56468689e-01, 5.04962007e-01, 5.02863973e-01, 1.76774081e+00,\n",
       "       4.91874461e-01, 9.21244331e-01, 1.48911959e-01, 4.92377828e-01,\n",
       "       1.62168958e-01, 4.80045332e-01, 4.57142125e-01, 4.90279793e-01,\n",
       "       4.37007438e-01, 5.02948539e-01, 1.85323848e-01, 4.92377828e-01,\n",
       "       4.92377828e-01, 3.97241431e-01, 4.92629511e-01, 3.60679280e+00,\n",
       "       5.02863973e-01, 4.99255516e-01, 4.43810379e-02, 1.76263239e-01,\n",
       "       5.06472109e-01, 5.02445171e-01, 4.97496065e-01, 6.19988892e-02,\n",
       "       2.34150465e-01, 9.46245572e-01, 4.92377828e-01, 1.24919787e-01,\n",
       "       7.51945840e-01, 3.03713226e-02, 4.89442190e-01, 3.86670720e-01,\n",
       "       1.26345323e-01, 4.73586124e-01, 5.02863973e-01, 1.62168958e-01,\n",
       "       3.86670720e-01, 1.19886115e-01, 1.76774081e+00, 4.76940563e-01,\n",
       "       5.07982210e-01, 4.91874461e-01, 6.48421654e-01, 4.91874461e-01,\n",
       "       3.86670720e-01, 4.20730236e-01, 4.89609308e-01, 1.62168958e-01,\n",
       "       4.37007438e-01, 1.87093118e-02, 4.86337422e-01, 6.48421654e-01,\n",
       "       4.88854258e-01, 9.66463381e-02, 5.18552921e-01, 8.66638810e-02,\n",
       "       1.23417160e+00, 4.74004926e-01, 6.48421654e-01, 3.97241431e-01,\n",
       "       1.50673744e-01, 5.08485578e-01, 4.89103607e-01, 9.66463381e-02,\n",
       "       4.92377828e-01, 9.62353321e-01, 3.57390858e-01, 2.70896269e-01,\n",
       "       5.02863973e-01, 4.90279793e-01, 4.81303750e-01, 1.02594470e+00,\n",
       "       4.74004926e-01, 4.86337422e-01, 4.89103607e-01, 5.04214441e-02,\n",
       "       4.88854258e-01, 4.37007438e-01, 2.42463508e-02, 5.18804605e-01,\n",
       "       4.74004926e-01, 4.96404765e-01, 7.51945840e-01, 4.89442190e-01,\n",
       "       1.60230236e-02, 1.14566354e+00, 1.87093118e-02, 4.91874461e-01,\n",
       "       3.41452240e-01, 1.44885022e-01, 1.24919787e-01, 4.60162328e-01,\n",
       "       2.67111778e+00, 1.13845709e-01, 2.60661807e-01, 5.02863973e-01,\n",
       "       3.64355446e-01, 4.16872751e-01, 1.26345323e-01, 7.51945840e-01,\n",
       "       3.86670720e-01, 3.86670720e-01, 3.69389118e-01, 3.68295484e-01,\n",
       "       4.57142125e-01, 4.24256141e-01, 4.89442190e-01, 4.09740724e-01,\n",
       "       5.47748218e-01, 4.67209469e-01, 1.65189161e-01, 5.02948539e-01,\n",
       "       4.50179550e-01, 4.89442190e-01, 4.89442190e-01, 1.02594470e+00,\n",
       "       1.24919787e-01, 4.89442190e-01, 4.36671189e-01, 4.37007438e-01,\n",
       "       5.06472109e-01, 6.19988892e-02, 3.86670720e-01, 4.43810379e-02,\n",
       "       1.76263239e-01, 4.43810379e-02, 4.92377828e-01])"
      ]
     },
     "execution_count": 26,
     "metadata": {},
     "output_type": "execute_result"
    }
   ],
   "source": [
    "from scipy.stats import zscore\n",
    "z=np.abs(zscore(df1['Fare']))\n",
    "z"
   ]
  },
  {
   "cell_type": "code",
   "execution_count": 27,
   "metadata": {},
   "outputs": [
    {
     "data": {
      "text/plain": [
       "array([[ 27,  88, 118, 258, 299, 311, 341, 377, 380, 438, 527, 557, 679,\n",
       "        689, 700, 716, 730, 737, 742, 779]], dtype=int64)"
      ]
     },
     "execution_count": 27,
     "metadata": {},
     "output_type": "execute_result"
    }
   ],
   "source": [
    "threshold=3\n",
    "a=np.array(np.where(z>3))\n",
    "a"
   ]
  },
  {
   "cell_type": "code",
   "execution_count": 28,
   "metadata": {},
   "outputs": [
    {
     "data": {
      "text/plain": [
       "(1, 20)"
      ]
     },
     "execution_count": 28,
     "metadata": {},
     "output_type": "execute_result"
    }
   ],
   "source": [
    "a.shape"
   ]
  },
  {
   "cell_type": "code",
   "execution_count": 29,
   "metadata": {},
   "outputs": [],
   "source": [
    "a=a.ravel() #converting to one-dimension"
   ]
  },
  {
   "cell_type": "code",
   "execution_count": 30,
   "metadata": {},
   "outputs": [
    {
     "data": {
      "text/plain": [
       "(20,)"
      ]
     },
     "execution_count": 30,
     "metadata": {},
     "output_type": "execute_result"
    }
   ],
   "source": [
    "a.shape"
   ]
  },
  {
   "cell_type": "code",
   "execution_count": 31,
   "metadata": {},
   "outputs": [
    {
     "data": {
      "text/plain": [
       "1"
      ]
     },
     "execution_count": 31,
     "metadata": {},
     "output_type": "execute_result"
    }
   ],
   "source": [
    "a.ndim"
   ]
  },
  {
   "cell_type": "code",
   "execution_count": 32,
   "metadata": {},
   "outputs": [],
   "source": [
    "df2=df1.drop(a)"
   ]
  },
  {
   "cell_type": "code",
   "execution_count": 33,
   "metadata": {},
   "outputs": [
    {
     "data": {
      "text/html": [
       "<div>\n",
       "<style scoped>\n",
       "    .dataframe tbody tr th:only-of-type {\n",
       "        vertical-align: middle;\n",
       "    }\n",
       "\n",
       "    .dataframe tbody tr th {\n",
       "        vertical-align: top;\n",
       "    }\n",
       "\n",
       "    .dataframe thead th {\n",
       "        text-align: right;\n",
       "    }\n",
       "</style>\n",
       "<table border=\"1\" class=\"dataframe\">\n",
       "  <thead>\n",
       "    <tr style=\"text-align: right;\">\n",
       "      <th></th>\n",
       "      <th>Survived</th>\n",
       "      <th>Pclass</th>\n",
       "      <th>Sex</th>\n",
       "      <th>Age</th>\n",
       "      <th>SibSp</th>\n",
       "      <th>Parch</th>\n",
       "      <th>Fare</th>\n",
       "      <th>Embarked</th>\n",
       "    </tr>\n",
       "  </thead>\n",
       "  <tbody>\n",
       "    <tr>\n",
       "      <th>0</th>\n",
       "      <td>0</td>\n",
       "      <td>3</td>\n",
       "      <td>male</td>\n",
       "      <td>22.0</td>\n",
       "      <td>1</td>\n",
       "      <td>0</td>\n",
       "      <td>7.2500</td>\n",
       "      <td>S</td>\n",
       "    </tr>\n",
       "    <tr>\n",
       "      <th>1</th>\n",
       "      <td>1</td>\n",
       "      <td>1</td>\n",
       "      <td>female</td>\n",
       "      <td>38.0</td>\n",
       "      <td>1</td>\n",
       "      <td>0</td>\n",
       "      <td>71.2833</td>\n",
       "      <td>C</td>\n",
       "    </tr>\n",
       "    <tr>\n",
       "      <th>2</th>\n",
       "      <td>1</td>\n",
       "      <td>3</td>\n",
       "      <td>female</td>\n",
       "      <td>26.0</td>\n",
       "      <td>0</td>\n",
       "      <td>0</td>\n",
       "      <td>7.9250</td>\n",
       "      <td>S</td>\n",
       "    </tr>\n",
       "    <tr>\n",
       "      <th>3</th>\n",
       "      <td>1</td>\n",
       "      <td>1</td>\n",
       "      <td>female</td>\n",
       "      <td>35.0</td>\n",
       "      <td>1</td>\n",
       "      <td>0</td>\n",
       "      <td>53.1000</td>\n",
       "      <td>S</td>\n",
       "    </tr>\n",
       "    <tr>\n",
       "      <th>4</th>\n",
       "      <td>0</td>\n",
       "      <td>3</td>\n",
       "      <td>male</td>\n",
       "      <td>35.0</td>\n",
       "      <td>0</td>\n",
       "      <td>0</td>\n",
       "      <td>8.0500</td>\n",
       "      <td>S</td>\n",
       "    </tr>\n",
       "    <tr>\n",
       "      <th>...</th>\n",
       "      <td>...</td>\n",
       "      <td>...</td>\n",
       "      <td>...</td>\n",
       "      <td>...</td>\n",
       "      <td>...</td>\n",
       "      <td>...</td>\n",
       "      <td>...</td>\n",
       "      <td>...</td>\n",
       "    </tr>\n",
       "    <tr>\n",
       "      <th>886</th>\n",
       "      <td>0</td>\n",
       "      <td>2</td>\n",
       "      <td>male</td>\n",
       "      <td>27.0</td>\n",
       "      <td>0</td>\n",
       "      <td>0</td>\n",
       "      <td>13.0000</td>\n",
       "      <td>S</td>\n",
       "    </tr>\n",
       "    <tr>\n",
       "      <th>887</th>\n",
       "      <td>1</td>\n",
       "      <td>1</td>\n",
       "      <td>female</td>\n",
       "      <td>19.0</td>\n",
       "      <td>0</td>\n",
       "      <td>0</td>\n",
       "      <td>30.0000</td>\n",
       "      <td>S</td>\n",
       "    </tr>\n",
       "    <tr>\n",
       "      <th>888</th>\n",
       "      <td>0</td>\n",
       "      <td>3</td>\n",
       "      <td>female</td>\n",
       "      <td>28.0</td>\n",
       "      <td>1</td>\n",
       "      <td>2</td>\n",
       "      <td>23.4500</td>\n",
       "      <td>S</td>\n",
       "    </tr>\n",
       "    <tr>\n",
       "      <th>889</th>\n",
       "      <td>1</td>\n",
       "      <td>1</td>\n",
       "      <td>male</td>\n",
       "      <td>26.0</td>\n",
       "      <td>0</td>\n",
       "      <td>0</td>\n",
       "      <td>30.0000</td>\n",
       "      <td>C</td>\n",
       "    </tr>\n",
       "    <tr>\n",
       "      <th>890</th>\n",
       "      <td>0</td>\n",
       "      <td>3</td>\n",
       "      <td>male</td>\n",
       "      <td>32.0</td>\n",
       "      <td>0</td>\n",
       "      <td>0</td>\n",
       "      <td>7.7500</td>\n",
       "      <td>Q</td>\n",
       "    </tr>\n",
       "  </tbody>\n",
       "</table>\n",
       "<p>871 rows × 8 columns</p>\n",
       "</div>"
      ],
      "text/plain": [
       "     Survived  Pclass     Sex   Age  SibSp  Parch     Fare Embarked\n",
       "0           0       3    male  22.0      1      0   7.2500        S\n",
       "1           1       1  female  38.0      1      0  71.2833        C\n",
       "2           1       3  female  26.0      0      0   7.9250        S\n",
       "3           1       1  female  35.0      1      0  53.1000        S\n",
       "4           0       3    male  35.0      0      0   8.0500        S\n",
       "..        ...     ...     ...   ...    ...    ...      ...      ...\n",
       "886         0       2    male  27.0      0      0  13.0000        S\n",
       "887         1       1  female  19.0      0      0  30.0000        S\n",
       "888         0       3  female  28.0      1      2  23.4500        S\n",
       "889         1       1    male  26.0      0      0  30.0000        C\n",
       "890         0       3    male  32.0      0      0   7.7500        Q\n",
       "\n",
       "[871 rows x 8 columns]"
      ]
     },
     "execution_count": 33,
     "metadata": {},
     "output_type": "execute_result"
    }
   ],
   "source": [
    "df2"
   ]
  },
  {
   "cell_type": "code",
   "execution_count": 34,
   "metadata": {},
   "outputs": [],
   "source": [
    "from sklearn.preprocessing import LabelEncoder"
   ]
  },
  {
   "cell_type": "code",
   "execution_count": 35,
   "metadata": {},
   "outputs": [
    {
     "data": {
      "text/plain": [
       "0      1\n",
       "1      0\n",
       "2      0\n",
       "3      0\n",
       "4      1\n",
       "      ..\n",
       "886    1\n",
       "887    0\n",
       "888    0\n",
       "889    1\n",
       "890    1\n",
       "Name: Sex, Length: 871, dtype: int32"
      ]
     },
     "execution_count": 35,
     "metadata": {},
     "output_type": "execute_result"
    }
   ],
   "source": [
    "le=LabelEncoder()\n",
    "df2['Sex']=le.fit_transform(df2['Sex'])\n",
    "df2['Sex']"
   ]
  },
  {
   "cell_type": "code",
   "execution_count": 36,
   "metadata": {},
   "outputs": [
    {
     "data": {
      "text/plain": [
       "0      2\n",
       "1      0\n",
       "2      2\n",
       "3      2\n",
       "4      2\n",
       "      ..\n",
       "886    2\n",
       "887    2\n",
       "888    2\n",
       "889    0\n",
       "890    1\n",
       "Name: Embarked, Length: 871, dtype: int32"
      ]
     },
     "execution_count": 36,
     "metadata": {},
     "output_type": "execute_result"
    }
   ],
   "source": [
    "l=LabelEncoder()\n",
    "df2['Embarked']=l.fit_transform(df2['Embarked'])\n",
    "df2['Embarked']"
   ]
  },
  {
   "cell_type": "code",
   "execution_count": 37,
   "metadata": {},
   "outputs": [
    {
     "data": {
      "text/plain": [
       "array([2, 0, 1])"
      ]
     },
     "execution_count": 37,
     "metadata": {},
     "output_type": "execute_result"
    }
   ],
   "source": [
    "df2['Embarked'].unique()"
   ]
  },
  {
   "cell_type": "code",
   "execution_count": 38,
   "metadata": {},
   "outputs": [
    {
     "data": {
      "text/plain": [
       "Survived    0.510329\n",
       "Pclass     -0.696979\n",
       "Sex        -0.645209\n",
       "Age         0.502364\n",
       "SibSp       3.764629\n",
       "Parch       2.849149\n",
       "Fare        2.250999\n",
       "Embarked   -1.320908\n",
       "dtype: float64"
      ]
     },
     "execution_count": 38,
     "metadata": {},
     "output_type": "execute_result"
    }
   ],
   "source": [
    "df2.skew()"
   ]
  },
  {
   "cell_type": "code",
   "execution_count": 39,
   "metadata": {},
   "outputs": [
    {
     "ename": "ValueError",
     "evalue": "Data must be positive.",
     "output_type": "error",
     "traceback": [
      "\u001b[1;31m---------------------------------------------------------------------------\u001b[0m",
      "\u001b[1;31mValueError\u001b[0m                                Traceback (most recent call last)",
      "\u001b[1;32m<ipython-input-39-b55e2096ab1b>\u001b[0m in \u001b[0;36m<module>\u001b[1;34m\u001b[0m\n\u001b[0;32m      1\u001b[0m \u001b[1;32mfrom\u001b[0m \u001b[0mscipy\u001b[0m\u001b[1;33m.\u001b[0m\u001b[0mstats\u001b[0m \u001b[1;32mimport\u001b[0m \u001b[0mboxcox\u001b[0m\u001b[1;33m\u001b[0m\u001b[1;33m\u001b[0m\u001b[0m\n\u001b[1;32m----> 2\u001b[1;33m \u001b[0mdf2\u001b[0m\u001b[1;33m[\u001b[0m\u001b[1;34m'Fare'\u001b[0m\u001b[1;33m]\u001b[0m\u001b[1;33m=\u001b[0m\u001b[0mboxcox\u001b[0m\u001b[1;33m(\u001b[0m\u001b[0mdf2\u001b[0m\u001b[1;33m[\u001b[0m\u001b[1;34m'Fare'\u001b[0m\u001b[1;33m]\u001b[0m\u001b[1;33m,\u001b[0m \u001b[1;36m0\u001b[0m\u001b[1;33m)\u001b[0m\u001b[1;33m\u001b[0m\u001b[1;33m\u001b[0m\u001b[0m\n\u001b[0m",
      "\u001b[1;32m~\\anaconda3\\lib\\site-packages\\scipy\\stats\\morestats.py\u001b[0m in \u001b[0;36mboxcox\u001b[1;34m(x, lmbda, alpha)\u001b[0m\n\u001b[0;32m   1041\u001b[0m \u001b[1;33m\u001b[0m\u001b[0m\n\u001b[0;32m   1042\u001b[0m     \u001b[1;32mif\u001b[0m \u001b[0many\u001b[0m\u001b[1;33m(\u001b[0m\u001b[0mx\u001b[0m \u001b[1;33m<=\u001b[0m \u001b[1;36m0\u001b[0m\u001b[1;33m)\u001b[0m\u001b[1;33m:\u001b[0m\u001b[1;33m\u001b[0m\u001b[1;33m\u001b[0m\u001b[0m\n\u001b[1;32m-> 1043\u001b[1;33m         \u001b[1;32mraise\u001b[0m \u001b[0mValueError\u001b[0m\u001b[1;33m(\u001b[0m\u001b[1;34m\"Data must be positive.\"\u001b[0m\u001b[1;33m)\u001b[0m\u001b[1;33m\u001b[0m\u001b[1;33m\u001b[0m\u001b[0m\n\u001b[0m\u001b[0;32m   1044\u001b[0m \u001b[1;33m\u001b[0m\u001b[0m\n\u001b[0;32m   1045\u001b[0m     \u001b[1;32mif\u001b[0m \u001b[0mlmbda\u001b[0m \u001b[1;32mis\u001b[0m \u001b[1;32mnot\u001b[0m \u001b[1;32mNone\u001b[0m\u001b[1;33m:\u001b[0m  \u001b[1;31m# single transformation\u001b[0m\u001b[1;33m\u001b[0m\u001b[1;33m\u001b[0m\u001b[0m\n",
      "\u001b[1;31mValueError\u001b[0m: Data must be positive."
     ]
    }
   ],
   "source": [
    "from scipy.stats import boxcox\n",
    "df2['Fare']=boxcox(df2['Fare'], 0)"
   ]
  },
  {
   "cell_type": "code",
   "execution_count": 40,
   "metadata": {},
   "outputs": [
    {
     "data": {
      "image/png": "[encoded data removed]",
      "text/plain": [
       "<Figure size 432x288 with 2 Axes>"
      ]
     },
     "metadata": {
      "needs_background": "light"
     },
     "output_type": "display_data"
    }
   ],
   "source": [
    "corr=df2.corr()\n",
    "sn.heatmap(corr,annot=True)\n",
    "plt.show()"
   ]
  },
  {
   "cell_type": "markdown",
   "metadata": {},
   "source": [
    "As 'Age', 'SibSp', 'Parch' have very low correlation with the target variable so I will be dropping them."
   ]
  },
  {
   "cell_type": "code",
   "execution_count": 120,
   "metadata": {},
   "outputs": [
    {
     "data": {
      "text/html": [
       "<div>\n",
       "<style scoped>\n",
       "    .dataframe tbody tr th:only-of-type {\n",
       "        vertical-align: middle;\n",
       "    }\n",
       "\n",
       "    .dataframe tbody tr th {\n",
       "        vertical-align: top;\n",
       "    }\n",
       "\n",
       "    .dataframe thead th {\n",
       "        text-align: right;\n",
       "    }\n",
       "</style>\n",
       "<table border=\"1\" class=\"dataframe\">\n",
       "  <thead>\n",
       "    <tr style=\"text-align: right;\">\n",
       "      <th></th>\n",
       "      <th>Survived</th>\n",
       "      <th>Pclass</th>\n",
       "      <th>Sex</th>\n",
       "      <th>Fare</th>\n",
       "      <th>Embarked</th>\n",
       "    </tr>\n",
       "  </thead>\n",
       "  <tbody>\n",
       "    <tr>\n",
       "      <th>0</th>\n",
       "      <td>0</td>\n",
       "      <td>3</td>\n",
       "      <td>1</td>\n",
       "      <td>7.2500</td>\n",
       "      <td>2</td>\n",
       "    </tr>\n",
       "    <tr>\n",
       "      <th>1</th>\n",
       "      <td>1</td>\n",
       "      <td>1</td>\n",
       "      <td>0</td>\n",
       "      <td>71.2833</td>\n",
       "      <td>0</td>\n",
       "    </tr>\n",
       "    <tr>\n",
       "      <th>2</th>\n",
       "      <td>1</td>\n",
       "      <td>3</td>\n",
       "      <td>0</td>\n",
       "      <td>7.9250</td>\n",
       "      <td>2</td>\n",
       "    </tr>\n",
       "    <tr>\n",
       "      <th>3</th>\n",
       "      <td>1</td>\n",
       "      <td>1</td>\n",
       "      <td>0</td>\n",
       "      <td>53.1000</td>\n",
       "      <td>2</td>\n",
       "    </tr>\n",
       "    <tr>\n",
       "      <th>4</th>\n",
       "      <td>0</td>\n",
       "      <td>3</td>\n",
       "      <td>1</td>\n",
       "      <td>8.0500</td>\n",
       "      <td>2</td>\n",
       "    </tr>\n",
       "    <tr>\n",
       "      <th>5</th>\n",
       "      <td>0</td>\n",
       "      <td>3</td>\n",
       "      <td>1</td>\n",
       "      <td>8.4583</td>\n",
       "      <td>1</td>\n",
       "    </tr>\n",
       "    <tr>\n",
       "      <th>6</th>\n",
       "      <td>0</td>\n",
       "      <td>1</td>\n",
       "      <td>1</td>\n",
       "      <td>51.8625</td>\n",
       "      <td>2</td>\n",
       "    </tr>\n",
       "    <tr>\n",
       "      <th>7</th>\n",
       "      <td>0</td>\n",
       "      <td>3</td>\n",
       "      <td>1</td>\n",
       "      <td>21.0750</td>\n",
       "      <td>2</td>\n",
       "    </tr>\n",
       "    <tr>\n",
       "      <th>8</th>\n",
       "      <td>1</td>\n",
       "      <td>3</td>\n",
       "      <td>0</td>\n",
       "      <td>11.1333</td>\n",
       "      <td>2</td>\n",
       "    </tr>\n",
       "    <tr>\n",
       "      <th>9</th>\n",
       "      <td>1</td>\n",
       "      <td>2</td>\n",
       "      <td>0</td>\n",
       "      <td>30.0708</td>\n",
       "      <td>0</td>\n",
       "    </tr>\n",
       "  </tbody>\n",
       "</table>\n",
       "</div>"
      ],
      "text/plain": [
       "   Survived  Pclass  Sex     Fare  Embarked\n",
       "0         0       3    1   7.2500         2\n",
       "1         1       1    0  71.2833         0\n",
       "2         1       3    0   7.9250         2\n",
       "3         1       1    0  53.1000         2\n",
       "4         0       3    1   8.0500         2\n",
       "5         0       3    1   8.4583         1\n",
       "6         0       1    1  51.8625         2\n",
       "7         0       3    1  21.0750         2\n",
       "8         1       3    0  11.1333         2\n",
       "9         1       2    0  30.0708         0"
      ]
     },
     "execution_count": 120,
     "metadata": {},
     "output_type": "execute_result"
    }
   ],
   "source": [
    "df3=df2.drop(['SibSp','Parch','Age'],axis=1)\n",
    "df3.head(10)"
   ]
  },
  {
   "cell_type": "code",
   "execution_count": 121,
   "metadata": {},
   "outputs": [
    {
     "name": "stdout",
     "output_type": "stream",
     "text": [
      "     Pclass  Sex     Fare  Embarked\n",
      "0         3    1   7.2500         2\n",
      "1         1    0  71.2833         0\n",
      "2         3    0   7.9250         2\n",
      "3         1    0  53.1000         2\n",
      "4         3    1   8.0500         2\n",
      "..      ...  ...      ...       ...\n",
      "886       2    1  13.0000         2\n",
      "887       1    0  30.0000         2\n",
      "888       3    0  23.4500         2\n",
      "889       1    1  30.0000         0\n",
      "890       3    1   7.7500         1\n",
      "\n",
      "[871 rows x 4 columns]\n",
      "0      0\n",
      "1      1\n",
      "2      1\n",
      "3      1\n",
      "4      0\n",
      "      ..\n",
      "886    0\n",
      "887    1\n",
      "888    0\n",
      "889    1\n",
      "890    0\n",
      "Name: Survived, Length: 871, dtype: int64\n"
     ]
    }
   ],
   "source": [
    "x=df3.drop('Survived',axis=1)\n",
    "y=df3['Survived']\n",
    "print(x)\n",
    "print(y)"
   ]
  },
  {
   "cell_type": "code",
   "execution_count": 122,
   "metadata": {},
   "outputs": [],
   "source": [
    "from sklearn.preprocessing import power_transform\n",
    "x=power_transform(x,method='yeo-johnson')\n",
    "#please tell which method can be used to remove skewness from a particular column when boxcox and np.log do not work"
   ]
  },
  {
   "cell_type": "code",
   "execution_count": 123,
   "metadata": {},
   "outputs": [],
   "source": [
    "from sklearn.preprocessing import StandardScaler\n",
    "sc=StandardScaler()\n",
    "sx=sc.fit_transform(x)"
   ]
  },
  {
   "cell_type": "code",
   "execution_count": 124,
   "metadata": {},
   "outputs": [],
   "source": [
    "from sklearn.model_selection import train_test_split\n",
    "from sklearn.linear_model import LogisticRegression\n",
    "from sklearn.metrics import accuracy_score\n",
    "from sklearn.metrics import confusion_matrix,classification_report"
   ]
  },
  {
   "cell_type": "code",
   "execution_count": 125,
   "metadata": {},
   "outputs": [
    {
     "name": "stdout",
     "output_type": "stream",
     "text": [
      "Best accuracy 84.40366972477065 found on random_state 68\n"
     ]
    }
   ],
   "source": [
    "best_rstate=0\n",
    "accu=0\n",
    "for i in range(30,200):\n",
    "    train_x,test_x,train_y,test_y=train_test_split(sx,y,test_size=0.25,random_state=i)\n",
    "    lg=LogisticRegression()\n",
    "    lg.fit(train_x,train_y)\n",
    "    pred=lg.predict(test_x)\n",
    "    temp_acc=accuracy_score(test_y,pred)\n",
    "    if temp_acc>accu:\n",
    "        accu=temp_acc\n",
    "        best_rstate=i\n",
    "\n",
    "print(f'Best accuracy {accu*100} found on random_state {best_rstate}')"
   ]
  },
  {
   "cell_type": "code",
   "execution_count": 126,
   "metadata": {},
   "outputs": [
    {
     "name": "stdout",
     "output_type": "stream",
     "text": [
      "0.8440366972477065\n"
     ]
    }
   ],
   "source": [
    "train_x,test_x,train_y,test_y=train_test_split(sx,y,test_size=0.25,random_state=68)\n",
    "lg=LogisticRegression()\n",
    "lg.fit(train_x,train_y)\n",
    "pred=lg.predict(test_x)\n",
    "print(accuracy_score(test_y,pred))"
   ]
  },
  {
   "cell_type": "code",
   "execution_count": 127,
   "metadata": {},
   "outputs": [
    {
     "name": "stdout",
     "output_type": "stream",
     "text": [
      "[[128  18]\n",
      " [ 16  56]]\n"
     ]
    }
   ],
   "source": [
    "print(confusion_matrix(test_y,pred))"
   ]
  },
  {
   "cell_type": "code",
   "execution_count": 128,
   "metadata": {},
   "outputs": [
    {
     "name": "stdout",
     "output_type": "stream",
     "text": [
      "              precision    recall  f1-score   support\n",
      "\n",
      "           0       0.89      0.88      0.88       146\n",
      "           1       0.76      0.78      0.77        72\n",
      "\n",
      "    accuracy                           0.84       218\n",
      "   macro avg       0.82      0.83      0.82       218\n",
      "weighted avg       0.85      0.84      0.84       218\n",
      "\n"
     ]
    }
   ],
   "source": [
    "print(classification_report(test_y,pred))"
   ]
  },
  {
   "cell_type": "code",
   "execution_count": 129,
   "metadata": {},
   "outputs": [],
   "source": [
    "import seaborn as sb\n",
    "from sklearn.tree import DecisionTreeClassifier\n",
    "from sklearn.naive_bayes import GaussianNB\n",
    "from sklearn.svm import SVC"
   ]
  },
  {
   "cell_type": "code",
   "execution_count": 130,
   "metadata": {},
   "outputs": [
    {
     "name": "stdout",
     "output_type": "stream",
     "text": [
      "0.8348623853211009\n",
      "[[123  23]\n",
      " [ 13  59]]\n",
      "              precision    recall  f1-score   support\n",
      "\n",
      "           0       0.90      0.84      0.87       146\n",
      "           1       0.72      0.82      0.77        72\n",
      "\n",
      "    accuracy                           0.83       218\n",
      "   macro avg       0.81      0.83      0.82       218\n",
      "weighted avg       0.84      0.83      0.84       218\n",
      "\n"
     ]
    }
   ],
   "source": [
    "gb=GaussianNB()\n",
    "gb.fit(train_x,train_y)\n",
    "predgb=gb.predict(test_x)\n",
    "print(accuracy_score(test_y,predgb))\n",
    "print(confusion_matrix(test_y,predgb))\n",
    "print(classification_report(test_y,predgb))"
   ]
  },
  {
   "cell_type": "code",
   "execution_count": 131,
   "metadata": {},
   "outputs": [
    {
     "name": "stdout",
     "output_type": "stream",
     "text": [
      "0.8761467889908257\n",
      "[[140   6]\n",
      " [ 21  51]]\n",
      "              precision    recall  f1-score   support\n",
      "\n",
      "           0       0.87      0.96      0.91       146\n",
      "           1       0.89      0.71      0.79        72\n",
      "\n",
      "    accuracy                           0.88       218\n",
      "   macro avg       0.88      0.83      0.85       218\n",
      "weighted avg       0.88      0.88      0.87       218\n",
      "\n"
     ]
    }
   ],
   "source": [
    "svc=SVC()\n",
    "svc.fit(train_x,train_y)\n",
    "predsvc=svc.predict(test_x)\n",
    "print(accuracy_score(test_y,predsvc))\n",
    "print(confusion_matrix(test_y,predsvc))\n",
    "print(classification_report(test_y,predsvc))"
   ]
  },
  {
   "cell_type": "code",
   "execution_count": 132,
   "metadata": {},
   "outputs": [
    {
     "name": "stdout",
     "output_type": "stream",
     "text": [
      "0.8623853211009175\n",
      "[[127  19]\n",
      " [ 11  61]]\n",
      "              precision    recall  f1-score   support\n",
      "\n",
      "           0       0.92      0.87      0.89       146\n",
      "           1       0.76      0.85      0.80        72\n",
      "\n",
      "    accuracy                           0.86       218\n",
      "   macro avg       0.84      0.86      0.85       218\n",
      "weighted avg       0.87      0.86      0.86       218\n",
      "\n"
     ]
    }
   ],
   "source": [
    "dtc=DecisionTreeClassifier()\n",
    "dtc.fit(train_x,train_y)\n",
    "preddtc=dtc.predict(test_x)\n",
    "print(accuracy_score(test_y,preddtc))\n",
    "print(confusion_matrix(test_y,preddtc))\n",
    "print(classification_report(test_y,preddtc))"
   ]
  },
  {
   "cell_type": "code",
   "execution_count": 133,
   "metadata": {},
   "outputs": [
    {
     "name": "stdout",
     "output_type": "stream",
     "text": [
      "0.8623853211009175\n",
      "[[128  18]\n",
      " [ 12  60]]\n",
      "              precision    recall  f1-score   support\n",
      "\n",
      "           0       0.91      0.88      0.90       146\n",
      "           1       0.77      0.83      0.80        72\n",
      "\n",
      "    accuracy                           0.86       218\n",
      "   macro avg       0.84      0.86      0.85       218\n",
      "weighted avg       0.87      0.86      0.86       218\n",
      "\n"
     ]
    }
   ],
   "source": [
    "dtc=DecisionTreeClassifier(criterion='entropy')\n",
    "dtc.fit(train_x,train_y)\n",
    "preddtc=dtc.predict(test_x)\n",
    "print(accuracy_score(test_y,preddtc))\n",
    "print(confusion_matrix(test_y,preddtc))\n",
    "print(classification_report(test_y,preddtc))"
   ]
  },
  {
   "cell_type": "code",
   "execution_count": 134,
   "metadata": {},
   "outputs": [
    {
     "name": "stdout",
     "output_type": "stream",
     "text": [
      "0.8761467889908257\n",
      "[[140   6]\n",
      " [ 21  51]]\n",
      "              precision    recall  f1-score   support\n",
      "\n",
      "           0       0.87      0.96      0.91       146\n",
      "           1       0.89      0.71      0.79        72\n",
      "\n",
      "    accuracy                           0.88       218\n",
      "   macro avg       0.88      0.83      0.85       218\n",
      "weighted avg       0.88      0.88      0.87       218\n",
      "\n"
     ]
    }
   ],
   "source": [
    "svc=SVC(kernel='poly')\n",
    "svc.fit(train_x,train_y)\n",
    "predsvc=svc.predict(test_x)\n",
    "print(accuracy_score(test_y,predsvc))\n",
    "print(confusion_matrix(test_y,predsvc))\n",
    "print(classification_report(test_y,predsvc))"
   ]
  },
  {
   "cell_type": "code",
   "execution_count": 135,
   "metadata": {},
   "outputs": [
    {
     "name": "stdout",
     "output_type": "stream",
     "text": [
      "0.8532110091743119\n",
      "[[130  16]\n",
      " [ 16  56]]\n",
      "              precision    recall  f1-score   support\n",
      "\n",
      "           0       0.89      0.89      0.89       146\n",
      "           1       0.78      0.78      0.78        72\n",
      "\n",
      "    accuracy                           0.85       218\n",
      "   macro avg       0.83      0.83      0.83       218\n",
      "weighted avg       0.85      0.85      0.85       218\n",
      "\n"
     ]
    }
   ],
   "source": [
    "svc=SVC(kernel='linear')\n",
    "svc.fit(train_x,train_y)\n",
    "predsvc=svc.predict(test_x)\n",
    "print(accuracy_score(test_y,predsvc))\n",
    "print(confusion_matrix(test_y,predsvc))\n",
    "print(classification_report(test_y,predsvc))"
   ]
  },
  {
   "cell_type": "code",
   "execution_count": null,
   "metadata": {},
   "outputs": [],
   "source": []
  },
  {
   "cell_type": "code",
   "execution_count": 136,
   "metadata": {},
   "outputs": [],
   "source": [
    "#Hypertuning\n",
    "parameters={'C':[0.1,1,10],\n",
    "            'gamma':[0.1,1,10]}"
   ]
  },
  {
   "cell_type": "code",
   "execution_count": 137,
   "metadata": {},
   "outputs": [
    {
     "name": "stdout",
     "output_type": "stream",
     "text": [
      "Final accuracy: 80.26315789473685\n"
     ]
    }
   ],
   "source": [
    "from sklearn.model_selection import GridSearchCV\n",
    "from sklearn.metrics import f1_score\n",
    "GCV=GridSearchCV(SVC(),parameters,cv=5,scoring='f1')\n",
    "GCV.fit(train_x,train_y)\n",
    "GCV.best_estimator_\n",
    "GCV_pred=GCV.best_estimator_.predict(test_x)\n",
    "print('Final accuracy:', f1_score(test_y,GCV_pred)*100)"
   ]
  },
  {
   "cell_type": "code",
   "execution_count": null,
   "metadata": {},
   "outputs": [],
   "source": [
    "#the accuracy of the model reduced after hypertuning. So which model should be choosed ultimately?"
   ]
  }
 ],
 "metadata": {
  "kernelspec": {
   "display_name": "Python 3",
   "language": "python",
   "name": "python3"
  },
  "language_info": {
   "codemirror_mode": {
    "name": "ipython",
    "version": 3
   },
   "file_extension": ".py",
   "mimetype": "text/x-python",
   "name": "python",
   "nbconvert_exporter": "python",
   "pygments_lexer": "ipython3",
   "version": "3.8.3"
  }
 },
 "nbformat": 4,
 "nbformat_minor": 4
}
